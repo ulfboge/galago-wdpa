
# Python Foundation for Spatial Analysis - Class Project

This notebook is part of a class project for the course "Python Foundation for Spatial Analysis" held in July 2024, provided by [Spatial Thoughts](https://spatialthoughts.com). The course was instructed by Ujaval Ganghi, with Vigna Purohit serving as the Training Associate.

## Project Overview

The objective of this project is to perform spatial analysis on the distribution of Galagos in relation to protected areas using Python. The analysis involves reading point location data and protected area data, performing a spatial join, and saving the results as a GeoPackage file.

## Data Sources

- **Galagos Point Locations**: Excel file containing x and y coordinates of Galagos observations.
- **Protected Areas**: Shapefile from the World Database on Protected Areas (WDPA).

## 1. Data Import

```python
import pandas as pd
import geopandas as gpd
import os

# Galago point locations
data_pkg_path = 'data'
filename = 'Galagos_TZ_MW.xlsx'
path = os.path.join(data_pkg_path, filename)

df = pd.read_excel(path)
```

## 2. Geospatial Data Creation

```python
# Dropping rows with missing coordinates
galago_df = df.dropna(subset=['x_coord', 'y_coord'])

# Creating a GeoDataFrame for Galagos locations
galago_gdf = gpd.GeoDataFrame(
    galago_df,
    geometry=gpd.points_from_xy(df.x_coord, df.y_coord),
    crs="EPSG:4326" 
)
```

## 3. Protected Areas Import

```python
# Importing protected areas data
filename = 'WDPA_Aug2024_Public_shp-polygons.zip'
path = os.path.join(data_pkg_path, filename)
print(path)

wdpa_gdf = gpd.read_file(path, layer='WDPA_Aug2024_Public_shp_0')
```

## 4. Spatial Join

```python
# Performing a spatial join between Galagos locations and protected areas
joined = gpd.sjoin(galago_gdf, wdpa_gdf, how='left', predicate='intersects')
```

## 5. Export Results

```python
# Exporting the joined data to a GeoPackage file
output_filename = 'galagos_WDPA.gpkg'
output_dir = 'output'
output_path = os.path.join(output_dir, output_filename)

# Use to_file with the driver specified
joined.to_file(output_path, driver="GPKG")

print('Successfully written output file at {}'.format(output_path))
```

## Conclusion

This notebook demonstrates how to perform basic spatial analysis using Python by combining point data and polygon data, performing a spatial join, and exporting the results for further use.
