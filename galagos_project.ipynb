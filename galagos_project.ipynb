{
 "cells": [
  {
   "cell_type": "markdown",
   "id": "775613e9-4669-4d2c-a861-401295245827",
   "metadata": {},
   "source": [
    "# Python Foundation for Spatial Analysis - Class Project\r\n",
    "\r\n",
    "This notebook is part of a class project for the course \"Python Foundation for Spatial Analysis\" held in July 2024, provided by [Spatial Thoughts](https://spatialthoughts.com). Ujaval Gandhi instructed the course, and Vigna Purohit servedng as the Training Associate.\r\n",
    "\r\n",
    "## Project Overview\r\n",
    "\r\n",
    "The objective of this project is to perform spatial analysis on the distribution of Galagos in relation to protected areas using Python. The analysis involves reading point location data and protected area data, performing a spatial join, and saving the results as a GeoPackagefile.\r\n"
   ]
  },
  {
   "cell_type": "markdown",
   "id": "56347dfa-fd23-459f-a473-87e66a6a39ec",
   "metadata": {},
   "source": [
    "## Data Sources\r\n",
    "\r\n",
    "- **Galagos Point Locations**: Excel file containing x and y coordinates of Galagos observations.\r\n",
    "- **Protected Areas**: Shapefile from the World Database on Protected Areas (WDP).\r\n"
   ]
  },
  {
   "cell_type": "code",
   "execution_count": null,
   "id": "f68ee2d4-893a-47d8-b22c-ff7d6a38b75b",
   "metadata": {},
   "outputs": [],
   "source": [
    "import pandas as pd\n",
    "import geopandas as gpd\n",
    "import os\n",
    "\n",
    "# Galago point locations\n",
    "data_pkg_path = 'data'\n",
    "filename = 'Galagos_TZ_MW.xlsx'\n",
    "path = os.path.join(data_pkg_path, filename)\n",
    "\n",
    "df = pd.read_excel(path)"
   ]
  },
  {
   "cell_type": "code",
   "execution_count": null,
   "id": "6451e734-edf4-4425-bfe1-186ba1953cc0",
   "metadata": {},
   "outputs": [],
   "source": [
    "# Remove rows with no coordinates and georeference the dataset to match the Protected Areas CRS\n",
    "galago_df = df.dropna(subset=['x_coord', 'y_coord'])\n",
    "\n",
    "galago_gdf = gpd.GeoDataFrame(\n",
    "    galago_df,\n",
    "    geometry=gpd.points_from_xy(df.x_coord, df.y_coord),\n",
    "    crs=\"EPSG:4326\" \n",
    ")"
   ]
  },
  {
   "cell_type": "code",
   "execution_count": null,
   "id": "9114af7f-a060-4c2c-9988-59fda6f089de",
   "metadata": {},
   "outputs": [],
   "source": [
    "# Importing protected areas data\n",
    "filename = 'WDPA_Aug2024_Public_shp-polygons.zip'\n",
    "path = os.path.join(data_pkg_path, filename)\n",
    "print(path)\n",
    "\n",
    "wdpa_gdf = gpd.read_file(path)"
   ]
  },
  {
   "cell_type": "code",
   "execution_count": null,
   "id": "35008398-d178-4880-a183-5845ddfeac70",
   "metadata": {},
   "outputs": [],
   "source": [
    "# Performing a spatial join between Galagos locations and protected areas\n",
    "joined = gpd.sjoin(galago_gdf, wdpa_gdf, how='left', predicate='intersects')"
   ]
  },
  {
   "cell_type": "code",
   "execution_count": null,
   "id": "d74538a9-9bfc-4866-a51a-611a81e8985b",
   "metadata": {},
   "outputs": [],
   "source": [
    "# Exporting the joined data to a GeoPackage file\n",
    "output_filename = 'galagos_WDPA.gpkg'\n",
    "output_dir = 'output'\n",
    "output_path = os.path.join(output_dir, output_filename)\n",
    "\n",
    "# Use to_file with the driver specified\n",
    "joined.to_file(output_path, driver=\"GPKG\")\n",
    "\n",
    "print('Successfully written output file at {}'.format(output_path))"
   ]
  },
  {
   "cell_type": "markdown",
   "id": "c3c7dc5c-7877-48e4-be19-f82c323e8495",
   "metadata": {},
   "source": [
    "## Conclusion\r\n",
    "\r\n",
    "This notebook demonstrates how to perform basic spatial analysis using Python by combining point data and polygon data, performing a spatial join, and exporting the results for further us.\r\n"
   ]
  }
 ],
 "metadata": {
  "kernelspec": {
   "display_name": "Python 3 (ipykernel)",
   "language": "python",
   "name": "python3"
  },
  "language_info": {
   "codemirror_mode": {
    "name": "ipython",
    "version": 3
   },
   "file_extension": ".py",
   "mimetype": "text/x-python",
   "name": "python",
   "nbconvert_exporter": "python",
   "pygments_lexer": "ipython3",
   "version": "3.12.0"
  }
 },
 "nbformat": 4,
 "nbformat_minor": 5
}
